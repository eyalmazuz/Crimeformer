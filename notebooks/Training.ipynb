{
 "cells": [
  {
   "cell_type": "code",
   "execution_count": 1,
   "metadata": {},
   "outputs": [],
   "source": [
    "import warnings\n",
    "warnings.filterwarnings('ignore')\n",
    "\n",
    "import argparse\n",
    "import os\n",
    "from typing import Dict, List, Tuple, Union\n",
    "\n",
    "# from model import CrimeModel\n",
    "\n",
    "import numpy as np\n",
    "import pandas as pd\n",
    "import tensorflow as tf\n",
    "import seaborn as sns\n",
    "import matplotlib.pyplot as plt\n",
    "from tqdm.notebook import tqdm\n",
    "from xgboost import XGBClassifier\n",
    "from sklearn.model_selection import train_test_split\n",
    "from sklearn.utils.class_weight import compute_class_weight\n",
    "from sklearn.metrics import roc_auc_score, f1_score"
   ]
  },
  {
   "cell_type": "code",
   "execution_count": 2,
   "metadata": {},
   "outputs": [
    {
     "name": "stdout",
     "output_type": "stream",
     "text": [
      "1 Physical GPUs, 1 Logical GPUs\n"
     ]
    }
   ],
   "source": [
    "gpus = tf.config.experimental.list_physical_devices('GPU')\n",
    "if gpus:\n",
    "  try:\n",
    "    # Currently, memory growth needs to be the same across GPUs\n",
    "    for gpu in gpus:\n",
    "      tf.config.experimental.set_memory_growth(gpu, True)\n",
    "    logical_gpus = tf.config.experimental.list_logical_devices('GPU')\n",
    "    print(len(gpus), \"Physical GPUs,\", len(logical_gpus), \"Logical GPUs\")\n",
    "  except RuntimeError as e:\n",
    "    # Memory growth must be set before GPUs have been initialized\n",
    "    print(e)"
   ]
  },
  {
   "cell_type": "code",
   "execution_count": 3,
   "metadata": {},
   "outputs": [],
   "source": [
    "class CrimeModel(tf.keras.Model):\n",
    "\n",
    "    def __init__(self, units=32):\n",
    "\n",
    "        super(CrimeModel, self).__init__()\n",
    "\n",
    "        self.lstm = tf.keras.layers.GRU(16)\n",
    "        self.dense = tf.keras.layers.Dense(4, activation='relu')\n",
    "        self.final = tf.keras.layers.Dense(1, activation='sigmoid')\n",
    "\n",
    "    def __call__(self, x, training):\n",
    "\n",
    "        x = self.lstm(x)\n",
    "        x = self.dense(x)\n",
    "        x = self.final(x)\n",
    "\n",
    "        return x"
   ]
  },
  {
   "cell_type": "code",
   "execution_count": 4,
   "metadata": {},
   "outputs": [],
   "source": [
    "LOAD_PATH = '../data/npys/14'\n",
    "CITY = 'New York'\n",
    "YEAR = 2014\n",
    "MODEL = 'xgboost'\n",
    "TEST_SIZE = 0.15\n",
    "USE_EMBEDDING = False"
   ]
  },
  {
   "cell_type": "code",
   "execution_count": 5,
   "metadata": {},
   "outputs": [],
   "source": [
    "def load_data(path: str) -> Tuple[np.ndarray, np.ndarray]:\n",
    "    \"\"\"\n",
    "    Loads the data from path for a spesific city.\n",
    "    The type of the data to load is based on the model used.\n",
    "\n",
    "    Parameters\n",
    "    ----------\n",
    "    path: str\n",
    "        Path of the data.\n",
    "\n",
    "    Returns\n",
    "    -------\n",
    "    X: np.ndarray\n",
    "        Numpy array of inputs for the model.\n",
    "\n",
    "    y: np.ndarray\n",
    "        Numpy array of labels.\n",
    "    \"\"\"\n",
    "\n",
    "    train = np.load(f'{path}/train.npz')\n",
    "    tests = {}\n",
    "    for month in os.listdir(f'{path}/test'):\n",
    "        month_path = f'{path}/test/{month}'\n",
    "        tests[month.split('.')[0]] = np.load(month_path)\n",
    "\n",
    "    return train, tests"
   ]
  },
  {
   "cell_type": "code",
   "execution_count": 6,
   "metadata": {},
   "outputs": [],
   "source": [
    "def train_model(model_type: str,\n",
    "                train: np.lib.npyio.NpzFile,\n",
    "                test: np.lib.npyio.NpzFile,\n",
    "                crime: str,\n",
    "                data_type: str,\n",
    "                test_size: float=0.2) -> None:\n",
    "\n",
    "    x, y = train['x'], train['y']\n",
    "    \n",
    "#     x_train, x_val, y_train, y_val = train_test_split(x, y, test_size=test_size, shuffle=False, random_state=42)\n",
    "    \n",
    "    weight_ratio = float(len(y[y == 1])) / float(len(y[y == 0]))\n",
    "\n",
    "    results = pd.DataFrame({'crime': [],'model': [], 'data_type': [], 'month': [],'f1': [], 'auc': []})\n",
    "    \n",
    "    if model_type == 'xgboost':\n",
    "        model = XGBClassifier(n_estimators=200, objective='binary:logistic',\n",
    "                              n_jobs=-1,\n",
    "                              eval_metric='logloss')\n",
    "\n",
    "        model.fit(x, y)\n",
    "        \n",
    "        for month in test:\n",
    "            x_test, y_test = test[month]['x'], test[month]['y']\n",
    "            proba = model.predict_proba(x_test)[:, 1]\n",
    "            preds = model.predict(x_test)\n",
    "            \n",
    "            auc = round(roc_auc_score(y_test, proba), 4)\n",
    "            f1 = round(f1_score(y_test, preds), 4)\n",
    "            \n",
    "            results = results.append(pd.Series({'crime': crime,\n",
    "                                      'model': model_type,\n",
    "                                      'data_type':  data_type,\n",
    "                                      'month': month,\n",
    "                                      'f1': f1,\n",
    "                                      'auc': auc}), ignore_index=True)\n",
    "\n",
    "    else:\n",
    "        model = CrimeModel(32)\n",
    "        model.compile(optimizer='adam', loss='binary_crossentropy', metrics=[tf.keras.metrics.Precision(), tf.keras.metrics.Recall(), tf.keras.metrics.AUC()])\n",
    "\n",
    "        model.fit(x, y, epochs=5, batch_size=64, verbose=0)\n",
    "        \n",
    "        for month in test:\n",
    "            x_test, y_test = test[month]['x'], test[month]['y']\n",
    "            proba = model.predict(x_test, batch_size=64)\n",
    "            preds = [1 if prob > 0.5 else 0 for prob in proba]\n",
    "            \n",
    "            auc = round(roc_auc_score(y_test, proba), 4)\n",
    "            f1 = round(f1_score(y_test, preds), 4)\n",
    "            \n",
    "            results = results.append(pd.Series({'crime': crime,\n",
    "                                      'model': model_type,\n",
    "                                      'data_type':  data_type,\n",
    "                                      'month': month,\n",
    "                                      'f1': f1,\n",
    "                                      'auc': auc}), ignore_index=True)\n",
    "        \n",
    "        \n",
    "    return results\n",
    "    "
   ]
  },
  {
   "cell_type": "code",
   "execution_count": 7,
   "metadata": {},
   "outputs": [
    {
     "data": {
      "application/vnd.jupyter.widget-view+json": {
       "model_id": "173cf69256de4b1599e9cc9093b41b12",
       "version_major": 2,
       "version_minor": 0
      },
      "text/plain": [
       "HBox(children=(FloatProgress(value=0.0, max=2.0), HTML(value='')))"
      ]
     },
     "metadata": {},
     "output_type": "display_data"
    },
    {
     "data": {
      "application/vnd.jupyter.widget-view+json": {
       "model_id": "",
       "version_major": 2,
       "version_minor": 0
      },
      "text/plain": [
       "HBox(children=(FloatProgress(value=0.0, max=4.0), HTML(value='')))"
      ]
     },
     "metadata": {},
     "output_type": "display_data"
    },
    {
     "data": {
      "application/vnd.jupyter.widget-view+json": {
       "model_id": "",
       "version_major": 2,
       "version_minor": 0
      },
      "text/plain": [
       "HBox(children=(FloatProgress(value=0.0, max=4.0), HTML(value='')))"
      ]
     },
     "metadata": {},
     "output_type": "display_data"
    },
    {
     "name": "stdout",
     "output_type": "stream",
     "text": [
      "\n"
     ]
    }
   ],
   "source": [
    "df = pd.DataFrame({'crime': [],'model': [], 'month': [],'f1': [], 'auc': []})\n",
    "\n",
    "for data_type in (t1 := tqdm(['historic', 'embedding'])):\n",
    "    t1.set_description(f'{data_type}')\n",
    "    \n",
    "    if MODEL == 'xgboost':\n",
    "        path = f'{LOAD_PATH}/{data_type}/regular/{YEAR}'\n",
    "\n",
    "    elif MODEL == 'tensorflow':\n",
    "        path = f'{LOAD_PATH}/{data_type}/time_series/{YEAR}'\n",
    "    \n",
    "    for crime in (t2 := tqdm(os.listdir(path), leave=False)):\n",
    "        t2.set_description(f'{crime}')\n",
    "        crime_path = f'{path}/{crime}'\n",
    "        train, tests = load_data(crime_path)\n",
    "        results = train_model(MODEL, train, tests, crime, data_type, TEST_SIZE)\n",
    "        df = df.append(results)\n",
    "df.index = range(df.shape[0])"
   ]
  },
  {
   "cell_type": "code",
   "execution_count": 8,
   "metadata": {
    "scrolled": true
   },
   "outputs": [
    {
     "data": {
      "image/png": "[encoded data removed]",
      "text/plain": [
       "<Figure size 432x288 with 1 Axes>"
      ]
     },
     "metadata": {
      "needs_background": "light"
     },
     "output_type": "display_data"
    },
    {
     "data": {
      "image/png": "[encoded data removed]",
      "text/plain": [
       "<Figure size 432x288 with 1 Axes>"
      ]
     },
     "metadata": {
      "needs_background": "light"
     },
     "output_type": "display_data"
    },
    {
     "data": {
      "image/png": "[encoded data removed]",
      "text/plain": [
       "<Figure size 432x288 with 1 Axes>"
      ]
     },
     "metadata": {
      "needs_background": "light"
     },
     "output_type": "display_data"
    },
    {
     "data": {
      "image/png": "[encoded data removed]",
      "text/plain": [
       "<Figure size 432x288 with 1 Axes>"
      ]
     },
     "metadata": {
      "needs_background": "light"
     },
     "output_type": "display_data"
    }
   ],
   "source": [
    "for crime in df.crime.unique():\n",
    "    crime_df = df[df.crime == crime]\n",
    "    ax = sns.barplot(data=crime_df, x='month', y='f1', hue='data_type')\n",
    "    ax.set_title(f'{crime}')\n",
    "    plt.show()"
   ]
  },
  {
   "cell_type": "code",
   "execution_count": 47,
   "metadata": {},
   "outputs": [
    {
     "data": {
      "text/plain": [
       "<seaborn.axisgrid.FacetGrid at 0x7f81c41d46d0>"
      ]
     },
     "execution_count": 47,
     "metadata": {},
     "output_type": "execute_result"
    },
    {
     "data": {
      "image/png": "[encoded data removed]",
      "text/plain": [
       "<Figure size 1244.5x360 with 4 Axes>"
      ]
     },
     "metadata": {
      "needs_background": "light"
     },
     "output_type": "display_data"
    }
   ],
   "source": [
    "g = sns.FacetGrid(df, col=\"crime\", height=5, aspect=0.8)\n",
    "ax = g.map_dataframe(sns.barplot, x=\"month\", y=\"auc\", hue=\"data_type\", palette=sns.color_palette(\"tab10\"))\n",
    "g.add_legend()"
   ]
  },
  {
   "cell_type": "code",
   "execution_count": 17,
   "metadata": {},
   "outputs": [],
   "source": [
    "ax.savefig(\"output.png\")"
   ]
  },
  {
   "cell_type": "code",
   "execution_count": null,
   "metadata": {},
   "outputs": [],
   "source": []
  },
  {
   "cell_type": "code",
   "execution_count": null,
   "metadata": {},
   "outputs": [],
   "source": []
  }
 ],
 "metadata": {
  "kernelspec": {
   "display_name": "Python 3",
   "language": "python",
   "name": "python3"
  },
  "language_info": {
   "codemirror_mode": {
    "name": "ipython",
    "version": 3
   },
   "file_extension": ".py",
   "mimetype": "text/x-python",
   "name": "python",
   "nbconvert_exporter": "python",
   "pygments_lexer": "ipython3",
   "version": "3.8.5"
  }
 },
 "nbformat": 4,
 "nbformat_minor": 4
}
