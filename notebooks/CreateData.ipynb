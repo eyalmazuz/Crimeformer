{
 "cells": [
  {
   "cell_type": "code",
   "execution_count": 1,
   "metadata": {},
   "outputs": [
    {
     "name": "stderr",
     "output_type": "stream",
     "text": [
      "/home/eyal/Desktop/University/7th_Semester/PPL/Project/.env/lib/python3.8/site-packages/tqdm/std.py:666: FutureWarning: The Panel class is removed from pandas. Accessing it from the top-level namespace will also be removed in the next version\n",
      "  from pandas import Panel\n"
     ]
    }
   ],
   "source": [
    "import os\n",
    "import argparse\n",
    "import math\n",
    "import json\n",
    "import dateutil.parser\n",
    "from typing import List, Dict, Tuple\n",
    "\n",
    "import pandas as pd\n",
    "import numpy as np\n",
    "from tqdm.notebook import tqdm\n",
    "tqdm.pandas()"
   ]
  },
  {
   "cell_type": "code",
   "execution_count": 2,
   "metadata": {},
   "outputs": [],
   "source": [
    "TestData = Dict[int, Dict[str, np.ndarray]]\n",
    "Data = Dict[str, np.ndarray]"
   ]
  },
  {
   "cell_type": "code",
   "execution_count": 3,
   "metadata": {},
   "outputs": [],
   "source": [
    "AREA_COLUMN = 'ADDR_PCT_CD'\n",
    "DATE_COLUMN = 'CMPLNT_FR_DT'\n",
    "OFFENCE_CODE = 'KY_CD'\n",
    "OFFENCE_DESC = 'OFNS_DESC'\n",
    "CB = 'BORO_NM'\n",
    "\n",
    "LOAD_COLUMNS = [AREA_COLUMN, DATE_COLUMN, OFFENCE_CODE, OFFENCE_DESC, CB]\n",
    "LOWEST_DATE = dateutil.parser.parse('1/1/2000').date()\n",
    "\n",
    "crime_types = pd.read_csv('../data/csvs/Crime_Types.csv')\n",
    "crime_types = crime_types[~crime_types[OFFENCE_DESC].isnull()]"
   ]
  },
  {
   "cell_type": "code",
   "execution_count": 4,
   "metadata": {},
   "outputs": [],
   "source": [
    "def date_from_str(date: str):\n",
    "    \"\"\"\n",
    "    Converts string to datetime object.\n",
    "    If date is lower than thershold we return nan.\n",
    "\n",
    "    Parameters\n",
    "    ----------\n",
    "    date: str\n",
    "        String of the date.\n",
    "\n",
    "    Returns\n",
    "    -------\n",
    "    date: DateTime\n",
    "        DateTime object of the string that was given.\n",
    "\n",
    "    \"\"\"\n",
    "    if isinstance(date, float) and math.isnan(date):\n",
    "        return np.nan\n",
    "    date = dateutil.parser.parse(date).date()\n",
    "    if date < LOWEST_DATE:\n",
    "        return np.nan\n",
    "    return date"
   ]
  },
  {
   "cell_type": "code",
   "execution_count": 5,
   "metadata": {},
   "outputs": [],
   "source": [
    "window_size = 14\n",
    "data_type = 'regular'\n",
    "save_path = '../data/npys'\n",
    "load_path = '../data/csvs/NewYork_Complaint_Data.csv'"
   ]
  },
  {
   "cell_type": "code",
   "execution_count": 19,
   "metadata": {},
   "outputs": [],
   "source": [
    "use_embedding = True\n",
    "if use_embedding:\n",
    "    with open('../data/jsons/newyork_borough_emb.json', 'r') as f:\n",
    "        embedding_dict = json.load(f)"
   ]
  },
  {
   "cell_type": "code",
   "execution_count": 7,
   "metadata": {},
   "outputs": [],
   "source": [
    "df = pd.read_csv(load_path, usecols=LOAD_COLUMNS)\n",
    "df = df[df[AREA_COLUMN] != -99.0]"
   ]
  },
  {
   "cell_type": "code",
   "execution_count": 8,
   "metadata": {},
   "outputs": [
    {
     "data": {
      "application/vnd.jupyter.widget-view+json": {
       "model_id": "ff3f318647f54affb18854e216176318",
       "version_major": 2,
       "version_minor": 0
      },
      "text/plain": [
       "HBox(children=(FloatProgress(value=0.0, max=6982457.0), HTML(value='')))"
      ]
     },
     "metadata": {},
     "output_type": "display_data"
    },
    {
     "name": "stdout",
     "output_type": "stream",
     "text": [
      "\n"
     ]
    }
   ],
   "source": [
    "df[DATE_COLUMN] = df[DATE_COLUMN].progress_apply(lambda date: date_from_str(date))"
   ]
  },
  {
   "cell_type": "code",
   "execution_count": 9,
   "metadata": {},
   "outputs": [],
   "source": [
    "for column in LOAD_COLUMNS:\n",
    "    df = df[~df[column].isnull()]"
   ]
  },
  {
   "cell_type": "code",
   "execution_count": 10,
   "metadata": {},
   "outputs": [],
   "source": [
    "df = df.sort_values(DATE_COLUMN)"
   ]
  },
  {
   "cell_type": "code",
   "execution_count": 11,
   "metadata": {},
   "outputs": [],
   "source": [
    "def generate_test_data(df: pd.DataFrame, start_date, end_date, window=5, data_type='regular') -> TestData:\n",
    "    \"\"\"\n",
    "    Generates trainning data for each month in the test set.\n",
    "    Each month contains all the training data for all precints.\n",
    "\n",
    "    Parameters:\n",
    "    -----------\n",
    "    df: pd.DataFrame\n",
    "        dataframe which contains crime data for a specific crime for a specific year.\n",
    "\n",
    "    start_date: DateTime\n",
    "        DateTime object of the date which the test set starts at.\n",
    "\n",
    "    end_date: DateTime\n",
    "        DateTime object of the date which the test set ends at.\n",
    "        \n",
    "    window: int\n",
    "        Window size for look back.\n",
    "\n",
    "    data_type: str\n",
    "        String representing the type of data to generate.\n",
    "\n",
    "\n",
    "    Returns\n",
    "    -------\n",
    "    data: Data\n",
    "        Dictionary that contains mapping from months to test data.\n",
    "    \"\"\"\n",
    "    if data_type == 'regular':\n",
    "        columns = 'has_crime'\n",
    "    else:\n",
    "        columns = ['has_crime', 'area']\n",
    "\n",
    "    data = {}\n",
    "    for area in df[AREA_COLUMN].unique():\n",
    "        \n",
    "        area_df = df[df[AREA_COLUMN] == area]\n",
    "        area_df = area_df.sort_values(DATE_COLUMN, ascending=True)\n",
    "        crime_dates = area_df[DATE_COLUMN].unique()\n",
    "\n",
    "        borough = area_df[CB].unique().tolist()[0].lower()\n",
    "\n",
    "        dates = pd.date_range(start_date, end_date, freq='d')\n",
    "        has_crime = [1 if date in crime_dates else 0 for date in dates]\n",
    "        area_crime_df = pd.DataFrame({'date': dates.date,\n",
    "                                      'has_crime': has_crime,\n",
    "                                      'month': dates.month,\n",
    "                                      'area': area }) \n",
    "        \n",
    "        for month in area_crime_df['month'].unique(): \n",
    "        \n",
    "            if month not in data:\n",
    "                data[month] = {'x': [], 'y': []}\n",
    "            \n",
    "            month_df = area_crime_df[area_crime_df['month'] == month]\n",
    "            x = []\n",
    "            y = []\n",
    "            for i in range(window, area_crime_df.shape[0]):\n",
    "                if data_type == 'regular':\n",
    "                    instance = np.array(area_crime_df[i - window : i][columns].tolist() + area_crime_df['area'].unique().tolist())\n",
    "                    if use_embedding:\n",
    "                        instance = np.hstack([instance, embedding_dict[borough]])\n",
    "                else:\n",
    "                    instance = area_crime_df[i - window : i][columns].values\n",
    "                    if use_embedding:\n",
    "                        embs = np.array([embedding_dict[borough]] * window)\n",
    "                        instance = np.hstack([instance, embs]) \n",
    "                        \n",
    "                x.append(instance)\n",
    "                y.append(area_crime_df.iloc[i]['has_crime'])\n",
    "\n",
    "            data[month]['x'].append(x)\n",
    "            data[month]['y'].append(y)\n",
    "        \n",
    "    for month in data:\n",
    "        data[month]['x'] = np.vstack(data[month]['x'])\n",
    "        data[month]['y'] = np.hstack(data[month]['y'])\n",
    "\n",
    "    return data"
   ]
  },
  {
   "cell_type": "code",
   "execution_count": 12,
   "metadata": {},
   "outputs": [],
   "source": [
    "def generate_train_data(df: pd.DataFrame, start_date, end_date, window=5, data_type='regular') -> Data:\n",
    "    \"\"\"\n",
    "    Generates trainning data for each month in the test set.\n",
    "    Each month contains all the training data for all precints.\n",
    "\n",
    "    Parameters:\n",
    "    -----------\n",
    "    df: pd.DataFrame\n",
    "        dataframe which contains crime data for a specific crime for a specific year.\n",
    "\n",
    "    start_date: DateTime\n",
    "        DateTime object of the date which the train/validation set starts at.\n",
    "\n",
    "    end_date: DateTime\n",
    "        DateTime object of the date which the train/validation set ends at.\n",
    "        \n",
    "    window: int\n",
    "        Window size for look back.\n",
    "\n",
    "    data_type: str\n",
    "        String representing the type of data to generate.\n",
    "\n",
    "    Returns\n",
    "    -------\n",
    "    data: Data\n",
    "        Dictionary that contains mapping from x/y numpy arrays.\n",
    "    \"\"\"\n",
    "\n",
    "    if data_type == 'regular':\n",
    "        columns = 'has_crime'\n",
    "    else:\n",
    "        columns = ['has_crime', 'area']\n",
    "\n",
    "    data = {'x': [], 'y': []}\n",
    "    \n",
    "    for area in df[AREA_COLUMN].unique():\n",
    "        \n",
    "        area_df = df[df[AREA_COLUMN] == area]\n",
    "        area_df = area_df.sort_values(DATE_COLUMN, ascending=True)\n",
    "        crime_dates = area_df[DATE_COLUMN].unique()\n",
    "\n",
    "        borough = area_df[CB].unique().tolist()[0].lower()\n",
    "\n",
    "        dates = pd.date_range(start_date, end_date, freq='d')\n",
    "        has_crime = [1 if date in crime_dates else 0 for date in dates]\n",
    "        area_crime_df = pd.DataFrame({'date': dates.date,\n",
    "                                      'has_crime': has_crime,\n",
    "                                      'month': dates.month,\n",
    "                                      'area': area }) \n",
    "        x = []\n",
    "        y = []\n",
    "\n",
    "        for i in range(window, area_crime_df.shape[0]):\n",
    "            if data_type == 'regular':\n",
    "                instance = np.array(area_crime_df[i - window : i][columns].tolist() + area_crime_df['area'].unique().tolist())\n",
    "                if use_embedding:\n",
    "                    instance = np.hstack([instance, embedding_dict[borough]])\n",
    "            else:\n",
    "                instance = area_crime_df[i - window : i][columns].values\n",
    "                if use_embedding:\n",
    "                    embs = np.array([embedding_dict[borough]] * window)\n",
    "                    instance = np.hstack([instance, embs]) \n",
    "            \n",
    "                \n",
    "            x.append(instance)\n",
    "            y.append(area_crime_df.iloc[i]['has_crime'])\n",
    "        \n",
    "        data['x'].append(x)\n",
    "        data['y'].append(np.array(y))\n",
    "        \n",
    "    data['x'] = np.vstack(data['x'])\n",
    "    data['y'] = np.hstack(data['y'])\n",
    "\n",
    "    return data"
   ]
  },
  {
   "cell_type": "code",
   "execution_count": 13,
   "metadata": {},
   "outputs": [],
   "source": [
    "def generate_area_data(year_df: pd.DataFrame, year: int, save_path: str, window_size: int=5, data_type: str='regular') -> None:\n",
    "    \n",
    "    \"\"\"\n",
    "    Generates data for a specific area.\n",
    "\n",
    "\n",
    "    Parameters\n",
    "    ----------\n",
    "    year_df: pd.DataFrame\n",
    "        DataFrame that holds crime data for a specific crime for a specific year.\n",
    "\n",
    "    year: int \n",
    "        Year of the crime data.\n",
    "\n",
    "    save_path: str\n",
    "        Path to save the data at.\n",
    "\n",
    "    window: int\n",
    "        Window size for look back.\n",
    "\n",
    "    data_type: str\n",
    "        String representing the type of data to generate.\n",
    "    \"\"\"\n",
    "    train_date = dateutil.parser.parse(f'1/1/{year}').date()\n",
    "    test_date = dateutil.parser.parse(f'8/1/{year}').date()\n",
    "    end_date = dateutil.parser.parse(f'12/31/{year}').date()\n",
    "\n",
    "    train_df = year_df[(year_df[DATE_COLUMN] >= train_date) & (year_df[DATE_COLUMN] < test_date)]\n",
    "    test_df = year_df[(year_df[DATE_COLUMN] >= test_date)]\n",
    "    \n",
    "    train = generate_train_data(train_df, start_date=train_date, end_date=test_date, window=window_size ,data_type=data_type)\n",
    "    test = generate_test_data(test_df, start_date=test_date, end_date=end_date, window=window_size, data_type=data_type)\n",
    "    \n",
    "    if not os.path.exists(save_path):\n",
    "        os.mkdir(save_path)\n",
    "\n",
    "    np.savez(f'{save_path}/train.npz', **train)\n",
    "\n",
    "\n",
    "    for month in test:\n",
    "        test_month_data = test[month]\n",
    "\n",
    "        if not os.path.exists(f'{save_path}/test'):\n",
    "            os.mkdir(f'{save_path}/test')\n",
    "\n",
    "        np.savez(f'{save_path}/test/{month}.npz', **test_month_data)"
   ]
  },
  {
   "cell_type": "code",
   "execution_count": 14,
   "metadata": {},
   "outputs": [],
   "source": [
    "def generate_crime_data(year_df: pd.DataFrame, year: int, save_path: str, window_size: int=5, data_type: str='regular') -> None:\n",
    "    \"\"\"\n",
    "    Generates data for all crimes in the new york dataset.\n",
    "\n",
    "    Parameters\n",
    "    ----------\n",
    "    df: pd.DataFrame\n",
    "        new york crime dataframe.\n",
    "\n",
    "    year: int\n",
    "        Year.\n",
    "\n",
    "    save_path: str\n",
    "        Path to save the data at.\n",
    "\n",
    "    window: int\n",
    "        Window size for look back.\n",
    "\n",
    "    data_type: str\n",
    "        String representing the type of data to generate.\n",
    "    \"\"\"\n",
    "    \n",
    "    selected_crimes = crime_types[crime_types['OFNS_DESC'].isin(['ROBBERY',\n",
    "                                           'BURGLARY',\n",
    "                                           'FELONY ASSAULT',\n",
    "                                           'GRAND LARCENY',])]['KY_CD'].tolist()\n",
    "    \n",
    "    for crime in tqdm(selected_crimes, leave=False):\n",
    "        crime_df = year_df[year_df[OFFENCE_CODE] == crime]\n",
    "        crime_type = crime_types[crime_types[OFFENCE_CODE] == crime][OFFENCE_DESC].iloc[0].replace('/', '_')\n",
    "        try:\n",
    "            crime_path = f'{save_path}/{crime_type}'\n",
    "            if not os.path.exists(crime_path):\n",
    "                os.mkdir(crime_path)\n",
    "\n",
    "            generate_area_data(crime_df, year, crime_path, window_size, data_type)\n",
    "        except ValueError:\n",
    "            print(f'failed at {crime_type}')"
   ]
  },
  {
   "cell_type": "code",
   "execution_count": 15,
   "metadata": {},
   "outputs": [],
   "source": [
    "def generate_year_data(df: pd.DataFrame, save_path: str, window_size: int=5, data_type: str='regular'):\n",
    "    \"\"\"\n",
    "    Generates data for a specific crime for all years in a range.\n",
    "\n",
    "    Parameters\n",
    "    ----------\n",
    "    crime_df: pd.DataFrame\n",
    "        Dataframe with all the crime data for a specific crime for all years.\n",
    "\n",
    "    save_path: str\n",
    "        Path to save the data at.\n",
    "\n",
    "    window: int\n",
    "        Window size for look back.\n",
    "\n",
    "    data_type: str\n",
    "        String representing the type of data to generate.\n",
    "    \"\"\"\n",
    "    for year in tqdm(range(2014, 2016), leave=False):   \n",
    "        START_DATE = dateutil.parser.parse(f'1/1/{year}').date()\n",
    "        END_DATE = dateutil.parser.parse(f'1/1/{year + 1}').date()\n",
    "        year_df = df[(df[DATE_COLUMN] > START_DATE) & (df[DATE_COLUMN] < END_DATE)]\n",
    "        \n",
    "        year_path = f'{save_path}/{str(year)}'\n",
    "        if not os.path.exists(year_path):\n",
    "                os.mkdir(year_path)\n",
    "\n",
    "        generate_crime_data(year_df, year, year_path, window_size, data_type)"
   ]
  },
  {
   "cell_type": "code",
   "execution_count": 20,
   "metadata": {
    "scrolled": true
   },
   "outputs": [
    {
     "data": {
      "application/vnd.jupyter.widget-view+json": {
       "model_id": "",
       "version_major": 2,
       "version_minor": 0
      },
      "text/plain": [
       "HBox(children=(FloatProgress(value=0.0, max=2.0), HTML(value='')))"
      ]
     },
     "metadata": {},
     "output_type": "display_data"
    },
    {
     "data": {
      "application/vnd.jupyter.widget-view+json": {
       "model_id": "",
       "version_major": 2,
       "version_minor": 0
      },
      "text/plain": [
       "HBox(children=(FloatProgress(value=0.0, max=4.0), HTML(value='')))"
      ]
     },
     "metadata": {},
     "output_type": "display_data"
    },
    {
     "data": {
      "application/vnd.jupyter.widget-view+json": {
       "model_id": "",
       "version_major": 2,
       "version_minor": 0
      },
      "text/plain": [
       "HBox(children=(FloatProgress(value=0.0, max=4.0), HTML(value='')))"
      ]
     },
     "metadata": {},
     "output_type": "display_data"
    },
    {
     "data": {
      "application/vnd.jupyter.widget-view+json": {
       "model_id": "",
       "version_major": 2,
       "version_minor": 0
      },
      "text/plain": [
       "HBox(children=(FloatProgress(value=0.0, max=2.0), HTML(value='')))"
      ]
     },
     "metadata": {},
     "output_type": "display_data"
    },
    {
     "data": {
      "application/vnd.jupyter.widget-view+json": {
       "model_id": "",
       "version_major": 2,
       "version_minor": 0
      },
      "text/plain": [
       "HBox(children=(FloatProgress(value=0.0, max=4.0), HTML(value='')))"
      ]
     },
     "metadata": {},
     "output_type": "display_data"
    },
    {
     "data": {
      "application/vnd.jupyter.widget-view+json": {
       "model_id": "",
       "version_major": 2,
       "version_minor": 0
      },
      "text/plain": [
       "HBox(children=(FloatProgress(value=0.0, max=4.0), HTML(value='')))"
      ]
     },
     "metadata": {},
     "output_type": "display_data"
    }
   ],
   "source": [
    "for data_type in ['regular', 'time_series']:\n",
    "    \n",
    "    path = f'{save_path}/{str(window_size)}'\n",
    "\n",
    "    if not os.path.exists(path):\n",
    "        os.mkdir(path)\n",
    "    \n",
    "    if use_embedding:\n",
    "        path = f'{path}/embedding/'\n",
    "    else: \n",
    "        path = f'{path}/historic/'\n",
    "    \n",
    "    if not os.path.exists(path):\n",
    "        os.mkdir(path)    \n",
    "    \n",
    "    path = f'{path}/{data_type}'\n",
    "\n",
    "    if not os.path.exists(path):\n",
    "        os.mkdir(path)\n",
    "\n",
    "    generate_year_data(df, path, window_size, data_type)"
   ]
  },
  {
   "cell_type": "code",
   "execution_count": 21,
   "metadata": {},
   "outputs": [
    {
     "data": {
      "text/plain": [
       "((15323, 14, 770), (15323,))"
      ]
     },
     "execution_count": 21,
     "metadata": {},
     "output_type": "execute_result"
    }
   ],
   "source": [
    "train = np.load(f'{path}/2014/BURGLARY/train.npz')\n",
    "train['x'].shape, train['y'].shape"
   ]
  },
  {
   "cell_type": "code",
   "execution_count": 22,
   "metadata": {},
   "outputs": [
    {
     "data": {
      "text/plain": [
       "((10703, 14, 770), (10703,))"
      ]
     },
     "execution_count": 22,
     "metadata": {},
     "output_type": "execute_result"
    }
   ],
   "source": [
    "test = np.load(f'{path}/2014/BURGLARY/test/10.npz')\n",
    "test['x'].shape, test['y'].shape"
   ]
  },
  {
   "cell_type": "code",
   "execution_count": 23,
   "metadata": {},
   "outputs": [
    {
     "data": {
      "text/plain": [
       "((15323, 14, 770), (15323,))"
      ]
     },
     "execution_count": 23,
     "metadata": {},
     "output_type": "execute_result"
    }
   ],
   "source": [
    "train = np.load(f'{path}/2014/BURGLARY/train.npz')\n",
    "train['x'].shape, train['y'].shape"
   ]
  },
  {
   "cell_type": "code",
   "execution_count": 24,
   "metadata": {},
   "outputs": [
    {
     "data": {
      "text/plain": [
       "((10703, 14, 770), (10703,))"
      ]
     },
     "execution_count": 24,
     "metadata": {},
     "output_type": "execute_result"
    }
   ],
   "source": [
    "test = np.load(f'{path}/2014/BURGLARY/test/10.npz')\n",
    "test['x'].shape, test['y'].shape"
   ]
  },
  {
   "cell_type": "code",
   "execution_count": null,
   "metadata": {},
   "outputs": [],
   "source": []
  }
 ],
 "metadata": {
  "kernelspec": {
   "display_name": "Python 3",
   "language": "python",
   "name": "python3"
  },
  "language_info": {
   "codemirror_mode": {
    "name": "ipython",
    "version": 3
   },
   "file_extension": ".py",
   "mimetype": "text/x-python",
   "name": "python",
   "nbconvert_exporter": "python",
   "pygments_lexer": "ipython3",
   "version": "3.8.5"
  }
 },
 "nbformat": 4,
 "nbformat_minor": 4
}
